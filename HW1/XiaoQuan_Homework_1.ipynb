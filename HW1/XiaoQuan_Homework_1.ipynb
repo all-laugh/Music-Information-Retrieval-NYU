{
 "cells": [
  {
   "cell_type": "markdown",
   "metadata": {},
   "source": [
    "# Homework 1\n",
    "**Total Points: 5**\n",
    "\n",
    "**Instructions:**\n",
    "1. Complete parts 1 through 5, filling in code or responses where marked with `# YOUR CODE HERE` or `# YOUR RESPONSE HERE`.\n",
    "2. The libraries you need, in the order you need them, have already been coded. Do not import additional libraries or move import commands.\n",
    "3. When finished, run the full notebook by selecting <b>Kernel > Restart & Run All</b>. </li>\n",
    "4. Submit this completed notebook file to <b>NYU Classes</b>. </li>\n",
    "\n",
    "**Grading:** Each part is worth 1 point."
   ]
  },
  {
   "cell_type": "markdown",
   "metadata": {},
   "source": [
    "## Part 1: Setup \n",
    "Install and run **Python** and **Jupyter Notebook**, and import **numpy**, **librosa**, **matplotlib**, and **pandas** successfully. Do not edit the code in Part 1; this part is complete when \"`Libraries imported.`\" prints below the cell."
   ]
  },
  {
   "cell_type": "code",
   "execution_count": 1,
   "metadata": {},
   "outputs": [
    {
     "name": "stdout",
     "output_type": "stream",
     "text": [
      "Libraries imported.\n"
     ]
    }
   ],
   "source": [
    "import librosa\n",
    "import numpy\n",
    "import matplotlib.pyplot as plt\n",
    "import pandas\n",
    "\n",
    "print(\"Libraries imported.\")"
   ]
  },
  {
   "cell_type": "markdown",
   "metadata": {},
   "source": [
    "## Part 2: `my_midi_to_hz()`\n",
    "Write a function where the input is a MIDI note (integer or numpy array of notes) in the range 0-127 and the output is the center frequency (Hz) of that note. Use the equation $F_{pitch}(p)=2^{(p-69)/12} \\cdot 440$, where $p$ is the MIDI note(s) and $F_{pitch}(p)$ is the center frequency(ies).\n"
   ]
  },
  {
   "cell_type": "code",
   "execution_count": 2,
   "metadata": {},
   "outputs": [],
   "source": [
    "def my_midi_to_hz(note):\n",
    "\n",
    "    \"\"\"Convert MIDI notes to frequenies (Hz).\n",
    "    \n",
    "    Examples\n",
    "    --------\n",
    "    >>> my_midi_to_hz(70)\n",
    "    466.1637615180899\n",
    "    \n",
    "    >>> my_midi_to_hz([45,57,69])\n",
    "    [110. 220. 440.]\n",
    "\n",
    "    Parameters\n",
    "    ----------\n",
    "    note: int or numpy array of MIDI notes \n",
    "    \n",
    "\n",
    "    Returns\n",
    "    -------\n",
    "    frequency: float or numpy array of frequencies\n",
    "   \n",
    "    \"\"\"\n",
    "    \n",
    "    # YOUR CODE HERE\n",
    "    note = numpy.array(note)\n",
    "    note = 2**((note - 69) / 12) * 440\n",
    "    note = note.tolist()\n",
    "    return note\n",
    "\n"
   ]
  },
  {
   "cell_type": "code",
   "execution_count": 3,
   "metadata": {},
   "outputs": [
    {
     "data": {
      "text/plain": [
       "[110.0, 220.0, 440.0]"
      ]
     },
     "execution_count": 3,
     "metadata": {},
     "output_type": "execute_result"
    }
   ],
   "source": [
    "my_midi_to_hz([45,57,69])"
   ]
  },
  {
   "cell_type": "markdown",
   "metadata": {},
   "source": [
    "## Part 3: Librosa and Pandas\n",
    "**Librosa** has a `midi_to_hz()` function. Use `pandas.DataFrame` to create a table with 2 columns and an index that will allow you to compare your function's output to Librosa. The index of each row will be the MIDI note number, one column will contain the output of `my_midi_to_hz()` and the other the output of `librosa.midi_to_hz()`. Compare MIDI values 65-80. Your conversion function (from Part 2) is correct if both outputs are equal for each row."
   ]
  },
  {
   "cell_type": "code",
   "execution_count": 4,
   "metadata": {
    "scrolled": true
   },
   "outputs": [
    {
     "data": {
      "text/html": [
       "<div>\n",
       "<style scoped>\n",
       "    .dataframe tbody tr th:only-of-type {\n",
       "        vertical-align: middle;\n",
       "    }\n",
       "\n",
       "    .dataframe tbody tr th {\n",
       "        vertical-align: top;\n",
       "    }\n",
       "\n",
       "    .dataframe thead th {\n",
       "        text-align: right;\n",
       "    }\n",
       "</style>\n",
       "<table border=\"1\" class=\"dataframe\">\n",
       "  <thead>\n",
       "    <tr style=\"text-align: right;\">\n",
       "      <th></th>\n",
       "      <th>Librosa</th>\n",
       "      <th>My Function</th>\n",
       "    </tr>\n",
       "  </thead>\n",
       "  <tbody>\n",
       "    <tr>\n",
       "      <th>65</th>\n",
       "      <td>349.228231</td>\n",
       "      <td>349.228231</td>\n",
       "    </tr>\n",
       "    <tr>\n",
       "      <th>66</th>\n",
       "      <td>369.994423</td>\n",
       "      <td>369.994423</td>\n",
       "    </tr>\n",
       "    <tr>\n",
       "      <th>67</th>\n",
       "      <td>391.995436</td>\n",
       "      <td>391.995436</td>\n",
       "    </tr>\n",
       "    <tr>\n",
       "      <th>68</th>\n",
       "      <td>415.304698</td>\n",
       "      <td>415.304698</td>\n",
       "    </tr>\n",
       "    <tr>\n",
       "      <th>69</th>\n",
       "      <td>440.000000</td>\n",
       "      <td>440.000000</td>\n",
       "    </tr>\n",
       "    <tr>\n",
       "      <th>70</th>\n",
       "      <td>466.163762</td>\n",
       "      <td>466.163762</td>\n",
       "    </tr>\n",
       "    <tr>\n",
       "      <th>71</th>\n",
       "      <td>493.883301</td>\n",
       "      <td>493.883301</td>\n",
       "    </tr>\n",
       "    <tr>\n",
       "      <th>72</th>\n",
       "      <td>523.251131</td>\n",
       "      <td>523.251131</td>\n",
       "    </tr>\n",
       "    <tr>\n",
       "      <th>73</th>\n",
       "      <td>554.365262</td>\n",
       "      <td>554.365262</td>\n",
       "    </tr>\n",
       "    <tr>\n",
       "      <th>74</th>\n",
       "      <td>587.329536</td>\n",
       "      <td>587.329536</td>\n",
       "    </tr>\n",
       "    <tr>\n",
       "      <th>75</th>\n",
       "      <td>622.253967</td>\n",
       "      <td>622.253967</td>\n",
       "    </tr>\n",
       "    <tr>\n",
       "      <th>76</th>\n",
       "      <td>659.255114</td>\n",
       "      <td>659.255114</td>\n",
       "    </tr>\n",
       "    <tr>\n",
       "      <th>77</th>\n",
       "      <td>698.456463</td>\n",
       "      <td>698.456463</td>\n",
       "    </tr>\n",
       "    <tr>\n",
       "      <th>78</th>\n",
       "      <td>739.988845</td>\n",
       "      <td>739.988845</td>\n",
       "    </tr>\n",
       "    <tr>\n",
       "      <th>79</th>\n",
       "      <td>783.990872</td>\n",
       "      <td>783.990872</td>\n",
       "    </tr>\n",
       "  </tbody>\n",
       "</table>\n",
       "</div>"
      ],
      "text/plain": [
       "       Librosa  My Function\n",
       "65  349.228231   349.228231\n",
       "66  369.994423   369.994423\n",
       "67  391.995436   391.995436\n",
       "68  415.304698   415.304698\n",
       "69  440.000000   440.000000\n",
       "70  466.163762   466.163762\n",
       "71  493.883301   493.883301\n",
       "72  523.251131   523.251131\n",
       "73  554.365262   554.365262\n",
       "74  587.329536   587.329536\n",
       "75  622.253967   622.253967\n",
       "76  659.255114   659.255114\n",
       "77  698.456463   698.456463\n",
       "78  739.988845   739.988845\n",
       "79  783.990872   783.990872"
      ]
     },
     "metadata": {},
     "output_type": "display_data"
    }
   ],
   "source": [
    "# The first line has been done for you\n",
    "df = pandas.DataFrame(index=numpy.arange(65,80), columns={'My Function','Librosa'})\n",
    "df['Librosa'] = librosa.midi_to_hz(df.index)\n",
    "df['My Function'] = my_midi_to_hz(df.index)\n",
    "assert all(df['Librosa'] == df['My Function'])\n",
    "display(df)"
   ]
  },
  {
   "cell_type": "markdown",
   "metadata": {},
   "source": [
    "## Part 4: Plot Frequency and MIDI Notes\n",
    "With `matplotlib.pyplot`, use `plot` to create a graph showing the relationship between MIDI notes and their corresponding frequencies. Plot MIDI notes 10 through 90 on the X axis, and the corresponding frequencies (in Hz) on the Y axis. Label both axes correctly. Note that this library has been imported as `plt`.\n"
   ]
  },
  {
   "cell_type": "code",
   "execution_count": 5,
   "metadata": {
    "scrolled": true
   },
   "outputs": [
    {
     "data": {
      "text/plain": [
       "[<matplotlib.lines.Line2D at 0x7ffa38ce7190>]"
      ]
     },
     "execution_count": 5,
     "metadata": {},
     "output_type": "execute_result"
    },
    {
     "data": {
      "image/png": "[encoded data removed]",
      "text/plain": [
       "<Figure size 432x288 with 1 Axes>"
      ]
     },
     "metadata": {
      "needs_background": "light"
     },
     "output_type": "display_data"
    }
   ],
   "source": [
    "midi_note = numpy.arange(10, 91, 1)\n",
    "frequency = my_midi_to_hz(midi_note)\n",
    "plt.title(\"MIDI-Frequency Graph\")\n",
    "plt.xlabel(\"MIDI Note\")\n",
    "plt.ylabel(\"Frequency (Hz)\")\n",
    "plt.grid(True)\n",
    "plt.plot(midi_note, frequency, 'ro')\n"
   ]
  },
  {
   "cell_type": "markdown",
   "metadata": {},
   "source": [
    "## Part 5: Introduce Yourself\n",
    "In no more than a few sentences, describe what you would like to accomplish with this class. Include information about your previous experience with MIR, programming (Python or otherwise), digital signal theory, machine learning, and music."
   ]
  },
  {
   "cell_type": "markdown",
   "metadata": {},
   "source": [
    "`My name is Xiao Quan`\n",
    "\n",
    "`I am here because I think MIR is a fascinating field, where serious technicality as well as artistry are both appreciated. Exciting and interesting things come out of this combination. I come from a performing art background, Acting/Psychology BFA at NYU Tisch. I have been working a lot with new media artists after working at 3LD Arts and Technology Center downtown, producing and marketing audio-visual exhibitions. I have since wanted to become more technical. `\n",
    "\n",
    "`In terms of MIR and programming experience, I really started programming last semester with DST. I then went on to learn a lot of CS on my own, data structure, algorithms etc. This summer, I finished maybe a dozen coursera classes on maths and programming, and one class on audio signal processing, which I thought was interesting. I am taking machine learning/deep learning maths and programming courses on Coursera, and I, probably like many others, am thinking about using it to uncover new dimensions of music information retrieval... `\n",
    "\n",
    "`Lastly, music, I have been playing the violin since I was 5. I enjoy classical music a lot, but also enjoy many other genres, especially electronic music of all kinds...`"
   ]
  }
 ],
 "metadata": {
  "kernelspec": {
   "display_name": "Python 3",
   "language": "python",
   "name": "python3"
  },
  "language_info": {
   "codemirror_mode": {
    "name": "ipython",
    "version": 3
   },
   "file_extension": ".py",
   "mimetype": "text/x-python",
   "name": "python",
   "nbconvert_exporter": "python",
   "pygments_lexer": "ipython3",
   "version": "3.7.6"
  }
 },
 "nbformat": 4,
 "nbformat_minor": 4
}
